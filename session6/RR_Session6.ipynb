{
  "nbformat": 4,
  "nbformat_minor": 0,
  "metadata": {
    "colab": {
      "provenance": [],
      "gpuType": "A100"
    },
    "kernelspec": {
      "name": "python3",
      "display_name": "Python 3"
    },
    "accelerator": "GPU"
  },
  "cells": [
    {
      "cell_type": "code",
      "metadata": {
        "id": "0m2JWFliFfKT"
      },
      "source": [
        "from __future__ import print_function\n",
        "import torch\n",
        "import torch.nn as nn\n",
        "import torch.nn.functional as F\n",
        "import torch.optim as optim\n",
        "from torchvision import datasets, transforms"
      ],
      "execution_count": 12,
      "outputs": []
    },
    {
      "cell_type": "code",
      "source": [
        "DROPOUT_VALUE = 0.04\n",
        "\n",
        "class Net(nn.Module):\n",
        "    def __init__(self):\n",
        "        super(Net, self).__init__()\n",
        "\n",
        "        self.conv1 = nn.Sequential(\n",
        "            nn.Conv2d(1, 8, 3, padding=0, bias=False),\n",
        "            nn.ReLU(),\n",
        "            nn.BatchNorm2d(8)\n",
        "        )\n",
        "\n",
        "        self.conv2 = nn.Sequential(\n",
        "            nn.Conv2d(8, 16, 3, padding=0, bias=False),\n",
        "            nn.ReLU(),\n",
        "            nn.BatchNorm2d(16)\n",
        "        )\n",
        "\n",
        "        self.trans = nn.Sequential(\n",
        "            nn.Conv2d(16, 8, 1, padding=0, bias=False),\n",
        "            nn.MaxPool2d(2, 2)\n",
        "        )\n",
        "\n",
        "        self.conv3 = nn.Sequential(\n",
        "            nn.Conv2d(8, 16, 3, padding=0, bias=False),\n",
        "            nn.ReLU(),\n",
        "            nn.BatchNorm2d(16),\n",
        "            nn.Conv2d(16, 16, 3, padding=0, bias=False),\n",
        "            nn.ReLU(),\n",
        "            nn.BatchNorm2d(16),\n",
        "            nn.Dropout(DROPOUT_VALUE)\n",
        "        )\n",
        "\n",
        "        self.conv4 = nn.Sequential(\n",
        "            nn.Conv2d(16, 32, 3, padding=0, bias=False),\n",
        "            nn.ReLU(),\n",
        "            nn.BatchNorm2d(32),\n",
        "            nn.Dropout(DROPOUT_VALUE)\n",
        "        )\n",
        "\n",
        "        self.conv5 = nn.Sequential(\n",
        "            nn.Conv2d(32, 32, 3, padding=1, bias=False),\n",
        "            nn.ReLU(),\n",
        "            nn.BatchNorm2d(32)\n",
        "        )\n",
        "\n",
        "        self.gap = nn.Sequential(\n",
        "            nn.AvgPool2d(kernel_size=6)\n",
        "        )\n",
        "\n",
        "        self.conv6 = nn.Sequential(\n",
        "            nn.Conv2d(32, 10, 1, padding=0, bias=False)\n",
        "        )\n",
        "\n",
        "    def forward(self, x):\n",
        "        device = next(self.parameters()).device  # Get the device of the model\n",
        "        x = x.to(device)  # Move input tensor to the same device as the model\n",
        "        x = self.conv1(x)\n",
        "        x = self.conv2(x)\n",
        "        x = self.trans(x)\n",
        "        x = self.conv3(x)\n",
        "        x = self.conv4(x)\n",
        "        x = self.conv5(x)\n",
        "        x = self.gap(x)\n",
        "        x = self.conv6(x)\n",
        "\n",
        "        x = x.view(-1, 10)\n",
        "        return F.log_softmax(x, dim=-1)\n"
      ],
      "metadata": {
        "id": "XSYmY3WJA60q"
      },
      "execution_count": 13,
      "outputs": []
    },
    {
      "cell_type": "code",
      "metadata": {
        "id": "xdydjYTZFyi3",
        "colab": {
          "base_uri": "https://localhost:8080/"
        },
        "outputId": "ce016f23-4fbb-49b6-f20e-1f5e84ebb097"
      },
      "source": [
        "# !pip install torchsummary\n",
        "from torchsummary import summary\n",
        "use_cuda = torch.cuda.is_available()\n",
        "device = torch.device(\"cuda\" if use_cuda else \"cpu\")\n",
        "model = Net().to(device)\n",
        "summary(model, input_size=(1, 28, 28))"
      ],
      "execution_count": 14,
      "outputs": [
        {
          "output_type": "stream",
          "name": "stdout",
          "text": [
            "----------------------------------------------------------------\n",
            "        Layer (type)               Output Shape         Param #\n",
            "================================================================\n",
            "            Conv2d-1            [-1, 8, 26, 26]              72\n",
            "              ReLU-2            [-1, 8, 26, 26]               0\n",
            "       BatchNorm2d-3            [-1, 8, 26, 26]              16\n",
            "            Conv2d-4           [-1, 16, 24, 24]           1,152\n",
            "              ReLU-5           [-1, 16, 24, 24]               0\n",
            "       BatchNorm2d-6           [-1, 16, 24, 24]              32\n",
            "            Conv2d-7            [-1, 8, 24, 24]             128\n",
            "         MaxPool2d-8            [-1, 8, 12, 12]               0\n",
            "            Conv2d-9           [-1, 16, 10, 10]           1,152\n",
            "             ReLU-10           [-1, 16, 10, 10]               0\n",
            "      BatchNorm2d-11           [-1, 16, 10, 10]              32\n",
            "           Conv2d-12             [-1, 16, 8, 8]           2,304\n",
            "             ReLU-13             [-1, 16, 8, 8]               0\n",
            "      BatchNorm2d-14             [-1, 16, 8, 8]              32\n",
            "          Dropout-15             [-1, 16, 8, 8]               0\n",
            "           Conv2d-16             [-1, 32, 6, 6]           4,608\n",
            "             ReLU-17             [-1, 32, 6, 6]               0\n",
            "      BatchNorm2d-18             [-1, 32, 6, 6]              64\n",
            "          Dropout-19             [-1, 32, 6, 6]               0\n",
            "           Conv2d-20             [-1, 32, 6, 6]           9,216\n",
            "             ReLU-21             [-1, 32, 6, 6]               0\n",
            "      BatchNorm2d-22             [-1, 32, 6, 6]              64\n",
            "        AvgPool2d-23             [-1, 32, 1, 1]               0\n",
            "           Conv2d-24             [-1, 10, 1, 1]             320\n",
            "================================================================\n",
            "Total params: 19,192\n",
            "Trainable params: 19,192\n",
            "Non-trainable params: 0\n",
            "----------------------------------------------------------------\n",
            "Input size (MB): 0.00\n",
            "Forward/backward pass size (MB): 0.51\n",
            "Params size (MB): 0.07\n",
            "Estimated Total Size (MB): 0.58\n",
            "----------------------------------------------------------------\n"
          ]
        }
      ]
    },
    {
      "cell_type": "code",
      "metadata": {
        "id": "DqTWLaM5GHgH"
      },
      "source": [
        "torch.manual_seed(1)\n",
        "batch_size = 32\n",
        "\n",
        "kwargs = {'num_workers': 1, 'pin_memory': True} if use_cuda else {}\n",
        "train_loader = torch.utils.data.DataLoader(\n",
        "    datasets.MNIST('../data', train=True, download=True,\n",
        "                    transform=transforms.Compose([\n",
        "                        transforms.ToTensor(),\n",
        "                        transforms.Normalize((0.1307,), (0.3081,))\n",
        "                    ])),\n",
        "    batch_size=batch_size, shuffle=True, **kwargs)\n",
        "test_loader = torch.utils.data.DataLoader(\n",
        "    datasets.MNIST('../data', train=False, transform=transforms.Compose([\n",
        "                        transforms.ToTensor(),\n",
        "                        transforms.Normalize((0.1307,), (0.3081,))\n",
        "                    ])),\n",
        "    batch_size=batch_size, shuffle=False, **kwargs)"
      ],
      "execution_count": 15,
      "outputs": []
    },
    {
      "cell_type": "code",
      "metadata": {
        "id": "8fDefDhaFlwH"
      },
      "source": [
        "from tqdm import tqdm\n",
        "def train(model, device, train_loader, optimizer, epoch):\n",
        "    model.train()\n",
        "    pbar = tqdm(train_loader)\n",
        "    for batch_idx, (data, target) in enumerate(pbar):\n",
        "        data, target = data.to(device), target.to(device)\n",
        "        optimizer.zero_grad()\n",
        "        output = model(data)\n",
        "        loss = F.nll_loss(output, target)\n",
        "        loss.backward()\n",
        "        optimizer.step()\n",
        "        pbar.set_description(desc= f'loss={loss.item()} batch_id={batch_idx}')\n",
        "\n",
        "\n",
        "def test(model, device, test_loader):\n",
        "    model.eval()\n",
        "    test_loss = 0\n",
        "    correct = 0\n",
        "    with torch.no_grad():\n",
        "        for data, target in test_loader:\n",
        "            data, target = data.to(device), target.to(device)\n",
        "            output = model(data)\n",
        "            test_loss += F.nll_loss(output, target, reduction='sum').item()  # sum up batch loss\n",
        "            pred = output.argmax(dim=1, keepdim=True)  # get the index of the max log-probability\n",
        "            correct += pred.eq(target.view_as(pred)).sum().item()\n",
        "\n",
        "    test_loss /= len(test_loader.dataset)\n",
        "\n",
        "    print('\\nEpoch: {},Test set: Average loss: {:.4f}, Accuracy: {}/{} ({:.4f}%)\\n'.format(epoch,\n",
        "        test_loss, correct, len(test_loader.dataset),\n",
        "        100. * correct / len(test_loader.dataset)))\n"
      ],
      "execution_count": 16,
      "outputs": []
    },
    {
      "cell_type": "code",
      "metadata": {
        "id": "MMWbLWO6FuHb",
        "colab": {
          "base_uri": "https://localhost:8080/"
        },
        "outputId": "d777afa3-0c99-4758-86ff-9f7b7a3d7ec5"
      },
      "source": [
        "model = Net().to(device)\n",
        "optimizer = optim.SGD(model.parameters(), lr=0.01, momentum=0.9)\n",
        "\n",
        "for epoch in range(1, 20):\n",
        "    train(model, device, train_loader, optimizer, epoch)\n",
        "    test(model, device, test_loader)"
      ],
      "execution_count": 17,
      "outputs": [
        {
          "output_type": "stream",
          "name": "stderr",
          "text": [
            "loss=0.03460963815450668 batch_id=1874: 100%|██████████| 1875/1875 [00:17<00:00, 105.63it/s]\n"
          ]
        },
        {
          "output_type": "stream",
          "name": "stdout",
          "text": [
            "\n",
            "Epoch: 1,Test set: Average loss: 0.0512, Accuracy: 9839/10000 (98.3900%)\n",
            "\n"
          ]
        },
        {
          "output_type": "stream",
          "name": "stderr",
          "text": [
            "loss=0.006276600528508425 batch_id=1874: 100%|██████████| 1875/1875 [00:17<00:00, 107.17it/s]\n"
          ]
        },
        {
          "output_type": "stream",
          "name": "stdout",
          "text": [
            "\n",
            "Epoch: 2,Test set: Average loss: 0.0291, Accuracy: 9909/10000 (99.0900%)\n",
            "\n"
          ]
        },
        {
          "output_type": "stream",
          "name": "stderr",
          "text": [
            "loss=0.03227299824357033 batch_id=1874: 100%|██████████| 1875/1875 [00:17<00:00, 105.75it/s]\n"
          ]
        },
        {
          "output_type": "stream",
          "name": "stdout",
          "text": [
            "\n",
            "Epoch: 3,Test set: Average loss: 0.0256, Accuracy: 9923/10000 (99.2300%)\n",
            "\n"
          ]
        },
        {
          "output_type": "stream",
          "name": "stderr",
          "text": [
            "loss=0.1650320291519165 batch_id=1874: 100%|██████████| 1875/1875 [00:17<00:00, 106.99it/s]\n"
          ]
        },
        {
          "output_type": "stream",
          "name": "stdout",
          "text": [
            "\n",
            "Epoch: 4,Test set: Average loss: 0.0253, Accuracy: 9925/10000 (99.2500%)\n",
            "\n"
          ]
        },
        {
          "output_type": "stream",
          "name": "stderr",
          "text": [
            "loss=0.007918382994830608 batch_id=1874: 100%|██████████| 1875/1875 [00:17<00:00, 104.51it/s]\n"
          ]
        },
        {
          "output_type": "stream",
          "name": "stdout",
          "text": [
            "\n",
            "Epoch: 5,Test set: Average loss: 0.0200, Accuracy: 9941/10000 (99.4100%)\n",
            "\n"
          ]
        },
        {
          "output_type": "stream",
          "name": "stderr",
          "text": [
            "loss=0.0036114188842475414 batch_id=1874: 100%|██████████| 1875/1875 [00:18<00:00, 102.42it/s]\n"
          ]
        },
        {
          "output_type": "stream",
          "name": "stdout",
          "text": [
            "\n",
            "Epoch: 6,Test set: Average loss: 0.0203, Accuracy: 9939/10000 (99.3900%)\n",
            "\n"
          ]
        },
        {
          "output_type": "stream",
          "name": "stderr",
          "text": [
            "loss=0.05405814200639725 batch_id=1874: 100%|██████████| 1875/1875 [00:18<00:00, 101.15it/s]\n"
          ]
        },
        {
          "output_type": "stream",
          "name": "stdout",
          "text": [
            "\n",
            "Epoch: 7,Test set: Average loss: 0.0212, Accuracy: 9923/10000 (99.2300%)\n",
            "\n"
          ]
        },
        {
          "output_type": "stream",
          "name": "stderr",
          "text": [
            "loss=0.0029865801334381104 batch_id=1874: 100%|██████████| 1875/1875 [00:17<00:00, 107.67it/s]\n"
          ]
        },
        {
          "output_type": "stream",
          "name": "stdout",
          "text": [
            "\n",
            "Epoch: 8,Test set: Average loss: 0.0215, Accuracy: 9926/10000 (99.2600%)\n",
            "\n"
          ]
        },
        {
          "output_type": "stream",
          "name": "stderr",
          "text": [
            "loss=0.015862619504332542 batch_id=1874: 100%|██████████| 1875/1875 [00:17<00:00, 104.26it/s]\n"
          ]
        },
        {
          "output_type": "stream",
          "name": "stdout",
          "text": [
            "\n",
            "Epoch: 9,Test set: Average loss: 0.0201, Accuracy: 9941/10000 (99.4100%)\n",
            "\n"
          ]
        },
        {
          "output_type": "stream",
          "name": "stderr",
          "text": [
            "loss=0.025756968185305595 batch_id=1874: 100%|██████████| 1875/1875 [00:17<00:00, 105.96it/s]\n"
          ]
        },
        {
          "output_type": "stream",
          "name": "stdout",
          "text": [
            "\n",
            "Epoch: 10,Test set: Average loss: 0.0212, Accuracy: 9935/10000 (99.3500%)\n",
            "\n"
          ]
        },
        {
          "output_type": "stream",
          "name": "stderr",
          "text": [
            "loss=0.0031572040170431137 batch_id=1874: 100%|██████████| 1875/1875 [00:18<00:00, 102.94it/s]\n"
          ]
        },
        {
          "output_type": "stream",
          "name": "stdout",
          "text": [
            "\n",
            "Epoch: 11,Test set: Average loss: 0.0186, Accuracy: 9941/10000 (99.4100%)\n",
            "\n"
          ]
        },
        {
          "output_type": "stream",
          "name": "stderr",
          "text": [
            "loss=0.010339510627090931 batch_id=1874: 100%|██████████| 1875/1875 [00:17<00:00, 106.05it/s]\n"
          ]
        },
        {
          "output_type": "stream",
          "name": "stdout",
          "text": [
            "\n",
            "Epoch: 12,Test set: Average loss: 0.0225, Accuracy: 9928/10000 (99.2800%)\n",
            "\n"
          ]
        },
        {
          "output_type": "stream",
          "name": "stderr",
          "text": [
            "loss=0.00021454125817399472 batch_id=1874: 100%|██████████| 1875/1875 [00:17<00:00, 105.86it/s]\n"
          ]
        },
        {
          "output_type": "stream",
          "name": "stdout",
          "text": [
            "\n",
            "Epoch: 13,Test set: Average loss: 0.0185, Accuracy: 9939/10000 (99.3900%)\n",
            "\n"
          ]
        },
        {
          "output_type": "stream",
          "name": "stderr",
          "text": [
            "loss=0.026453426107764244 batch_id=1874: 100%|██████████| 1875/1875 [00:17<00:00, 105.61it/s]\n"
          ]
        },
        {
          "output_type": "stream",
          "name": "stdout",
          "text": [
            "\n",
            "Epoch: 14,Test set: Average loss: 0.0186, Accuracy: 9927/10000 (99.2700%)\n",
            "\n"
          ]
        },
        {
          "output_type": "stream",
          "name": "stderr",
          "text": [
            "loss=0.008096069097518921 batch_id=1874: 100%|██████████| 1875/1875 [00:17<00:00, 105.89it/s]\n"
          ]
        },
        {
          "output_type": "stream",
          "name": "stdout",
          "text": [
            "\n",
            "Epoch: 15,Test set: Average loss: 0.0192, Accuracy: 9944/10000 (99.4400%)\n",
            "\n"
          ]
        },
        {
          "output_type": "stream",
          "name": "stderr",
          "text": [
            "loss=0.0012883308809250593 batch_id=1874: 100%|██████████| 1875/1875 [00:17<00:00, 106.90it/s]\n"
          ]
        },
        {
          "output_type": "stream",
          "name": "stdout",
          "text": [
            "\n",
            "Epoch: 16,Test set: Average loss: 0.0199, Accuracy: 9945/10000 (99.4500%)\n",
            "\n"
          ]
        },
        {
          "output_type": "stream",
          "name": "stderr",
          "text": [
            "loss=0.003777588251978159 batch_id=1874: 100%|██████████| 1875/1875 [00:17<00:00, 105.85it/s]\n"
          ]
        },
        {
          "output_type": "stream",
          "name": "stdout",
          "text": [
            "\n",
            "Epoch: 17,Test set: Average loss: 0.0184, Accuracy: 9932/10000 (99.3200%)\n",
            "\n"
          ]
        },
        {
          "output_type": "stream",
          "name": "stderr",
          "text": [
            "loss=0.002826014533638954 batch_id=1874: 100%|██████████| 1875/1875 [00:17<00:00, 105.20it/s]\n"
          ]
        },
        {
          "output_type": "stream",
          "name": "stdout",
          "text": [
            "\n",
            "Epoch: 18,Test set: Average loss: 0.0199, Accuracy: 9933/10000 (99.3300%)\n",
            "\n"
          ]
        },
        {
          "output_type": "stream",
          "name": "stderr",
          "text": [
            "loss=0.00019296756363473833 batch_id=1874: 100%|██████████| 1875/1875 [00:18<00:00, 103.34it/s]\n"
          ]
        },
        {
          "output_type": "stream",
          "name": "stdout",
          "text": [
            "\n",
            "Epoch: 19,Test set: Average loss: 0.0178, Accuracy: 9945/10000 (99.4500%)\n",
            "\n"
          ]
        }
      ]
    },
    {
      "cell_type": "code",
      "source": [
        "torch.save(model.state_dict(), '/content/mnist_test_acc_99.45_epochs_19.pth')"
      ],
      "metadata": {
        "id": "qQ-TZKT6nyFn"
      },
      "execution_count": 18,
      "outputs": []
    }
  ]
}